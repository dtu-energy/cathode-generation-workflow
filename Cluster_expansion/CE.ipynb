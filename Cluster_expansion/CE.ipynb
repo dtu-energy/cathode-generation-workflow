{
 "cells": [
  {
   "cell_type": "markdown",
   "metadata": {},
   "source": [
    "### Load packages"
   ]
  },
  {
   "cell_type": "code",
   "execution_count": 1,
   "metadata": {},
   "outputs": [],
   "source": [
    "\n",
    "from clease.tools import reconfigure\n",
    "from clease import  NewStructures,Evaluate\n",
    "from clease.settings import Concentration, CECrystal, CEBulk\n",
    "from clease.tools import reconfigure\n",
    "from clease.regression import PhysicalRidge,LinearRegression\n",
    "from clease.basis_function import BinaryLinear\n",
    "from clease.regression.physical_ridge import random_cv_hyper_opt\n",
    "import logging\n",
    "logging.basicConfig(level=logging.INFO)\n",
    "from clease.corr_func import CorrFunction\n",
    "import clease.plot_post_process as pp\n",
    "\n",
    "import json# from tqdm import tqdm\n",
    "import itertools\n",
    "from ase.visualize import view\n",
    "import shutil\n",
    "from ase.io import read\n",
    "import numpy as np\n",
    "from ase.db import connect\n",
    "import matplotlib.pyplot as plt\n",
    "import os "
   ]
  },
  {
   "cell_type": "markdown",
   "metadata": {},
   "source": [
    "### Set lattice parameters from cif file"
   ]
  },
  {
   "cell_type": "code",
   "execution_count": null,
   "metadata": {},
   "outputs": [],
   "source": [
    "# Define the structure from the cif file (cif_files/Na2Fe2SO4.cif)\n",
    "\n",
    "Fe1Na1 = (0.26987, 0.34210, 0.35406)\n",
    "\n",
    "Na2 = (0, 0.73305, 0.25)\n",
    "Na3 = (0.4891, 0.0046, 0.0421)\n",
    "Na4 = (-0.0072, 0.0113, 0.2839)\n",
    "\n",
    "S1 = (0.5, 0.2235, 0.75)\n",
    "S2 = (0.23745, 0.10265, 0.1300)\n",
    "O1 = (0.08512, 0.34528, 0.22064)\n",
    "O2 = (0.05370, 0.20951, 0.45382)\n",
    "O3 = (0.23398, 0.16965, 0.31316)\n",
    "O4 = (0.18027, 0.00395, 0.12336)\n",
    "O5 = (0.32586, 0.34197, 0.08521)\n",
    "O6 = (0.35966, 0.08711, 0.17191)\n",
    "\n",
    "cellpar = [12.64974,12.76248,6.508625,90,115.5396,90] # Cell parameters, a, b, c, alpha, beta, gamma\n",
    "\n"
   ]
  },
  {
   "cell_type": "markdown",
   "metadata": {},
   "source": [
    "### Initialize the cluster expansion object"
   ]
  },
  {
   "cell_type": "code",
   "execution_count": 32,
   "metadata": {},
   "outputs": [
    {
     "name": "stdout",
     "output_type": "stream",
     "text": [
      "[[1 1 0 0 0 0 0]\n",
      " [0 0 1 1 1 0 0]\n",
      " [0 0 0 0 0 1 0]\n",
      " [0 0 0 0 0 0 1]]\n",
      "[1 1 1 1]\n",
      "[[1 1 0 0 0 0 0]\n",
      " [0 0 1 1 1 0 0]\n",
      " [0 0 0 0 0 1 0]\n",
      " [0 0 0 0 0 0 1]\n",
      " [0 0 8 0 0 0 0]]\n",
      "[1 1 1 1 7]\n"
     ]
    }
   ],
   "source": [
    "# Define the database file, which will store the structures generated\n",
    "db_name = 'alluadite_all_Fe.db'\n",
    "\n",
    "# Define the concentration of the system all information given in the cif file. X represent vacant sites\n",
    "conc = Concentration(basis_elements = [\n",
    "                                       ['Na','X'], # multiplicity factor of 2\n",
    "                                       ['Na','X'], # multiplicity factor of 4 \n",
    "                                       ['Na','X'], # multiplicity factor of 4\n",
    "                                       \n",
    "                                       ['Fe','Na','X'], # multiplicity factor of 4\n",
    "                                       \n",
    "                                       ['S'], # multiplicity factor of 2\n",
    "                                       ['S'], # multiplicity factor of 4\n",
    "                                       \n",
    "                                       ['O'], # multiplicity factor of 4\n",
    "                                       ['O'], # multiplicity factor of 4\n",
    "                                       ['O'], # multiplicity factor of 4\n",
    "                                       ['O'], # multiplicity factor of 4\n",
    "                                       ['O'], # multiplicity factor of 4\n",
    "                                       ['O']  # multiplicity factor of 4\n",
    "                                       ],\n",
    "                    grouped_basis=[[0,1,2], #  multiplicity factor of 10 (2+4+4)\n",
    "                                   [3],     # multiplicity factor of 4\n",
    "                                   [4,5],   # multiplicity factor of 6\n",
    "                                   [6,7,8,9,10,11]] # multiplicity factor of 24\n",
    "                    ) \n",
    "# Max Na concentration: Na10Fe7(SO4)12\n",
    "# Min Na concentration: Na6Fe7(SO4)12\n",
    "# Start with Na10Fe7(SO4)12 --> 10 Na, 7 Fe, 12 S, 48 O for 2 times unit cell\n",
    "#                                5 Na, 3.5 Fe, 6 S, 24 O for unit cell\n",
    "\n",
    "# Define the equality constraints for the system\n",
    "conc.A_eq = np.array([#Na, X, Fe, Na, X, S, O\n",
    "                      [1, 1, 0, 0, 0, 0, 0], # 10\n",
    "                      [0, 0, 1, 1, 1, 0, 0], # 4    \n",
    "                      [0, 0, 0, 0, 0, 1, 0], # 6\n",
    "                      [0, 0, 0, 0, 0, 0, 1], # 24\n",
    "                      [0, 0, 8, 0, 0, 0, 0], # Fe (3.5 out of 4 sites)\n",
    "                      ]   \n",
    ")                   \n",
    "\n",
    "# all N sites in primitive = 5 --> \n",
    "conc.b_eq = np.array([1,\n",
    "                      1,\n",
    "                      1,\n",
    "                      1,\n",
    "                      7,\n",
    "                      ]) \n",
    "\n",
    "# Define the inequality constraints\n",
    "conc.A_lb =np.array([[-10, 0, 0, -4, 0, 0, 0], # Less than 5 Na in unit cell (or 10 in 2x1x1 cell)\n",
    "                     [10, 0, 0, 4, 0, 0, 0],   # More than 3 Na in unit cell (or 6 in 2x1x1)\n",
    "                      ]   )\n",
    "conc.b_lb = np.array([-5, 1.5])\n",
    "\n",
    "\n",
    "setting = CECrystal(cellpar=cellpar,\n",
    "                   basis=[Na2,Na3,Na4,Fe1Na1, S1,S2,O1,O2,O3,O4,O5,O6],\n",
    "                   concentration=conc,\n",
    "                   spacegroup=15,\n",
    "                   size=[(2,0,0),(0,1,0),(0,0,1)],\n",
    "                   db_name=db_name,\n",
    "                   max_cluster_dia=[5.0, 5.0])\n",
    "basis_func = ['polynomial', 'trigonometric','binaryLinear']\n",
    "setting.basis_func_type=basis_func[0] #: polynomial, trigonometric and binaryLinear."
   ]
  },
  {
   "cell_type": "markdown",
   "metadata": {},
   "source": [
    "### Generate structures using random sampling"
   ]
  },
  {
   "cell_type": "code",
   "execution_count": 3,
   "metadata": {},
   "outputs": [
    {
     "name": "stderr",
     "output_type": "stream",
     "text": [
      "INFO:clease.structgen.new_struct:Generating 100 random structures (generation: 0, struct_per_gen=100, 0 present).\n",
      "INFO:clease.structgen.new_struct:Succesfully generated 100 random structures.\n"
     ]
    }
   ],
   "source": [
    "#### Generating Random structures ####\n",
    "## The samples generated are stored in the database file defined above\n",
    "# One will then use the workflow/relaxation to relax the structures\n",
    "\n",
    "sampling = 60 # Number of structures to generate\n",
    "ns = NewStructures(setting, struct_per_gen=sampling)\n",
    "\n",
    "count=1\n",
    "while count !=sampling:\n",
    "    try:\n",
    "        ns.generate_one_random_structure()\n",
    "        count+=1\n",
    "    except:\n",
    "        pass"
   ]
  }
 ],
 "metadata": {
  "kernelspec": {
   "display_name": "Python 3.9.13 ('base': conda)",
   "language": "python",
   "name": "python3"
  },
  "language_info": {
   "codemirror_mode": {
    "name": "ipython",
    "version": 3
   },
   "file_extension": ".py",
   "mimetype": "text/x-python",
   "name": "python",
   "nbconvert_exporter": "python",
   "pygments_lexer": "ipython3",
   "version": "3.9.13"
  },
  "orig_nbformat": 4,
  "vscode": {
   "interpreter": {
    "hash": "dd25d2610a20ee03a6d13580c3a1b4094cce271d3da33f4aef69d3b3bf48f420"
   }
  }
 },
 "nbformat": 4,
 "nbformat_minor": 2
}
